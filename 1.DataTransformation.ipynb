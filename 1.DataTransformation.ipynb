{
 "cells": [
  {
   "cell_type": "code",
   "execution_count": 1,
   "id": "c9bdb476-7d04-4269-8d6c-9bd48aa23649",
   "metadata": {},
   "outputs": [
    {
     "name": "stderr",
     "output_type": "stream",
     "text": [
      "2024-09-22 14:40:40.578875: I tensorflow/core/platform/cpu_feature_guard.cc:210] This TensorFlow binary is optimized to use available CPU instructions in performance-critical operations.\n",
      "To enable the following instructions: AVX2 FMA, in other operations, rebuild TensorFlow with the appropriate compiler flags.\n",
      "2024-09-22 14:40:41.581777: W tensorflow/compiler/tf2tensorrt/utils/py_utils.cc:38] TF-TRT Warning: Could not find TensorRT\n"
     ]
    }
   ],
   "source": [
    "import os\n",
    "import xml.etree.ElementTree as ET\n",
    "import tensorflow as tf"
   ]
  },
  {
   "cell_type": "code",
   "execution_count": 2,
   "id": "94e6d2ba-fd21-447b-8a9f-6edc71fcd869",
   "metadata": {},
   "outputs": [],
   "source": [
    "# Function to parse Pascal VOC annotation XML file\n",
    "def parse_voc_annotation(xml_file):\n",
    "    \"\"\"Parses a single Pascal VOC annotation XML file.\"\"\"\n",
    "    tree = ET.parse(xml_file)\n",
    "    root = tree.getroot()\n",
    "\n",
    "    # Extract image file name\n",
    "    file_name = root.find('filename').text\n",
    "\n",
    "    # Extract size of the image\n",
    "    size = root.find('size')\n",
    "    width = int(size.find('width').text)\n",
    "    height = int(size.find('height').text)\n",
    "\n",
    "    # Extract bounding boxes and labels\n",
    "    boxes = []\n",
    "    labels = []\n",
    "    \n",
    "    for obj in root.findall('object'):\n",
    "        label = obj.find('name').text\n",
    "\n",
    "        # Get the bounding box coordinates\n",
    "        bndbox = obj.find('bndbox')\n",
    "        xmin = int(bndbox.find('xmin').text)\n",
    "        ymin = int(bndbox.find('ymin').text)\n",
    "        xmax = int(bndbox.find('xmax').text)\n",
    "        ymax = int(bndbox.find('ymax').text)\n",
    "\n",
    "        boxes.append([xmin, ymin, xmax, ymax])\n",
    "        labels.append(label)\n",
    "        return {\n",
    "        'file_name': file_name,\n",
    "        'width': width,\n",
    "        'height': height,\n",
    "        'boxes': boxes,\n",
    "        'labels': labels\n",
    "    }"
   ]
  },
  {
   "cell_type": "code",
   "execution_count": 3,
   "id": "8aaefbfb-8fea-4fd4-b2b3-f2c502144d5d",
   "metadata": {},
   "outputs": [],
   "source": [
    "# Function to create a single tf.train.Example for a single image-annotation pair\n",
    "def create_tf_example(annotation, image_dir):\n",
    "    \"\"\"Converts annotation data to tf.train.Example.\"\"\"\n",
    "    # Load the image\n",
    "    image_path = os.path.join(image_dir, annotation['file_name'])\n",
    "    with tf.io.gfile.GFile(image_path, 'rb') as fid:\n",
    "        encoded_image = fid.read()\n",
    "    \n",
    "    # Convert image format to bytes\n",
    "    filename = annotation['file_name'].encode('utf8')\n",
    "    image_format = b'jpg'  # or 'png' if your images are in PNG format\n",
    "\n",
    "    # Prepare bounding boxes and labels\n",
    "    xmins = [box[0] / annotation['width'] for box in annotation['boxes']]\n",
    "    xmaxs = [box[2] / annotation['width'] for box in annotation['boxes']]\n",
    "    ymins = [box[1] / annotation['height'] for box in annotation['boxes']]\n",
    "    ymaxs = [box[3] / annotation['height'] for box in annotation['boxes']]\n",
    "    \n",
    "    labels = annotation['labels']\n",
    "\n",
    "    # Here you can map labels to integers, if needed\n",
    "    classes_text = [label.encode('utf8') for label in labels]\n",
    "    classes = [1 if label == 'your_class_name' else 0 for label in labels]  # Update class mapping here\n",
    "\n",
    "    # Create a tf.train.Example message ready to be written to a file\n",
    "    tf_example = tf.train.Example(features=tf.train.Features(feature={\n",
    "        'image/filename': tf.train.Feature(bytes_list=tf.train.BytesList(value=[filename])),\n",
    "        'image/encoded': tf.train.Feature(bytes_list=tf.train.BytesList(value=[encoded_image])),\n",
    "        'image/format': tf.train.Feature(bytes_list=tf.train.BytesList(value=[image_format])),\n",
    "        'image/object/bbox/xmin': tf.train.Feature(float_list=tf.train.FloatList(value=xmins)),\n",
    "        'image/object/bbox/xmax': tf.train.Feature(float_list=tf.train.FloatList(value=xmaxs)),\n",
    "        'image/object/bbox/ymin': tf.train.Feature(float_list=tf.train.FloatList(value=ymins)),\n",
    "        'image/object/bbox/ymax': tf.train.Feature(float_list=tf.train.FloatList(value=ymaxs)),\n",
    "        'image/object/class/text': tf.train.Feature(bytes_list=tf.train.BytesList(value=classes_text)),\n",
    "        'image/object/class/label': tf.train.Feature(int64_list=tf.train.Int64List(value=classes)),\n",
    "    }))\n",
    "    \n",
    "    return tf_example"
   ]
  },
  {
   "cell_type": "code",
   "execution_count": 4,
   "id": "18776fdb-4d8b-436c-9684-f20b02fd645e",
   "metadata": {},
   "outputs": [],
   "source": [
    "# Function to create a TFRecord file for a specific dataset (train or test)\n",
    "def create_tfrecord(output_path, annotations, image_dir):\n",
    "    \"\"\"Converts a list of annotations to a TFRecord file.\"\"\"\n",
    "    writer = tf.io.TFRecordWriter(output_path)\n",
    "\n",
    "    for annotation in annotations:\n",
    "        tf_example = create_tf_example(annotation, image_dir)\n",
    "        writer.write(tf_example.SerializeToString())\n",
    "\n",
    "    writer.close()\n",
    "    print(f\"TFRecord saved at: {output_path}\")"
   ]
  },
  {
   "cell_type": "code",
   "execution_count": 5,
   "id": "057c7eb7-e544-47a7-b52e-3cc2e0590e9c",
   "metadata": {},
   "outputs": [],
   "source": [
    "# Main function to create TFRecords for both train and test directories\n",
    "def create_tfrecords_for_datasets(base_dir):\n",
    "    \"\"\"Creates TFRecord files for both train and test datasets.\"\"\"\n",
    "    for dataset_type in ['train', 'test']:  # Process both train and test\n",
    "        data_dir = os.path.join(base_dir, dataset_type)\n",
    "        output_path = f\"{base_dir}{dataset_type}_data.tfrecord\"\n",
    "        annotations = []\n",
    "\n",
    "        # Iterate over all XML files in the directory and parse annotations\n",
    "        for xml_file in os.listdir(data_dir):\n",
    "            if xml_file.endswith('.xml'):\n",
    "                annotation = parse_voc_annotation(os.path.join(data_dir, xml_file))\n",
    "                annotations.append(annotation)\n",
    "\n",
    "        # Create a TFRecord file for each dataset (train or test)\n",
    "        create_tfrecord(output_path, annotations, data_dir)"
   ]
  },
  {
   "cell_type": "code",
   "execution_count": 6,
   "id": "a70ca50e-4090-4f46-a003-f690d7cd0b6e",
   "metadata": {},
   "outputs": [
    {
     "name": "stdout",
     "output_type": "stream",
     "text": [
      "TFRecord saved at: data/osetr/train_data.tfrecord\n",
      "TFRecord saved at: data/osetr/test_data.tfrecord\n"
     ]
    }
   ],
   "source": [
    "data_dir = 'data/osetr/'\n",
    "create_tfrecords_for_datasets(data_dir)"
   ]
  },
  {
   "cell_type": "code",
   "execution_count": null,
   "id": "b2869943-e7fa-4f7c-ab92-45cc2029aef1",
   "metadata": {},
   "outputs": [],
   "source": []
  }
 ],
 "metadata": {
  "kernelspec": {
   "display_name": "keras_obj_det",
   "language": "python",
   "name": "keras_obj_det"
  },
  "language_info": {
   "codemirror_mode": {
    "name": "ipython",
    "version": 3
   },
   "file_extension": ".py",
   "mimetype": "text/x-python",
   "name": "python",
   "nbconvert_exporter": "python",
   "pygments_lexer": "ipython3",
   "version": "3.10.12"
  }
 },
 "nbformat": 4,
 "nbformat_minor": 5
}
