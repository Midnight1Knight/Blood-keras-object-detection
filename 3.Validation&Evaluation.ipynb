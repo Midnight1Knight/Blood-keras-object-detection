{
 "cells": [
  {
   "cell_type": "code",
   "execution_count": null,
   "id": "9ca36e2c-c548-41e5-b114-1ddceccf4318",
   "metadata": {},
   "outputs": [],
   "source": []
  }
 ],
 "metadata": {
  "kernelspec": {
   "display_name": "keras_obj_det",
   "language": "python",
   "name": "keras_obj_det"
  },
  "language_info": {
   "codemirror_mode": {
    "name": "ipython",
    "version": 3
   },
   "file_extension": ".py",
   "mimetype": "text/x-python",
   "name": "python",
   "nbconvert_exporter": "python",
   "pygments_lexer": "ipython3",
   "version": "3.10.12"
  }
 },
 "nbformat": 4,
 "nbformat_minor": 5
}
